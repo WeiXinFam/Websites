{
 "cells": [
  {
   "cell_type": "markdown",
   "metadata": {},
   "source": [
    "# Job Aggregator"
   ]
  },
  {
   "cell_type": "markdown",
   "metadata": {},
   "source": [
    "Reference: https://realpython.com/beautiful-soup-web-scraper-python/"
   ]
  },
  {
   "cell_type": "code",
   "execution_count": 1,
   "metadata": {},
   "outputs": [],
   "source": [
    "# Import Databases\n",
    "import requests\n",
    "from bs4 import BeautifulSoup"
   ]
  },
  {
   "cell_type": "code",
   "execution_count": 7,
   "metadata": {},
   "outputs": [],
   "source": [
    "#Passing requests to server and scrape infromation\n",
    "\n",
    "URL='https://au.indeed.com/jobs?q=Software+Developer&l=Canberra+ACT'\n",
    "page = requests.get(URL)\n",
    "\n",
    "soup = BeautifulSoup(page.content, 'html.parser')"
   ]
  },
  {
   "cell_type": "code",
   "execution_count": 9,
   "metadata": {},
   "outputs": [],
   "source": [
    "#Find the region where the job listings fall under\n",
    "\n",
    "results= soup.find(id='resultsCol')\n",
    "# print(results.prettify())"
   ]
  },
  {
   "cell_type": "code",
   "execution_count": 23,
   "metadata": {},
   "outputs": [
    {
     "name": "stdout",
     "output_type": "stream",
     "text": [
      "Software Developer\n",
      "QuintessenceLabs\n",
      "Canberra ACT\n",
      "\n",
      "Service Now Developer - Expression of Interest\n",
      "Accenture\n",
      "Canberra ACT\n",
      "\n",
      "Software Engineer\n",
      "SEERS IT Solutions\n",
      "Canberra ACT\n",
      "\n",
      "Software Engineers - PV, NV2, or NV1 cleared\n",
      "The Network IT\n",
      "Canberra ACT\n",
      "\n",
      "Software Engineer - NV1\n",
      "Dialog Information Technology\n",
      "Canberra ACT\n",
      "\n",
      "C++ Software Engineer\n",
      "HAYS\n",
      "Canberra ACT\n",
      "\n",
      "Front-End Software Developer\n",
      "SoftLabs Pty Ltd\n",
      "Canberra ACT\n",
      "\n",
      "Cobol Developers\n",
      "Dialog Information Technology\n",
      "Canberra ACT\n",
      "\n",
      "C++ Software Engineer (Canberra)\n",
      "oneZero Financial Systems\n",
      "Canberra ACT\n",
      "\n",
      "SharePoint online dot net developer\n",
      "CYOS Solutions\n",
      "Canberra ACT\n",
      "\n",
      "7818\n",
      "Downer Group\n",
      "Canberra ACT\n",
      "\n",
      "C/C++ Software Engineers\n",
      "NCH Software\n",
      "Canberra ACT\n",
      "\n",
      "Software Developer (.Net / C#) (NV1)\n",
      "Whizdom\n",
      "Canberra ACT\n",
      "\n",
      "Senior Developer\n",
      "Xero\n",
      "Canberra ACT\n",
      "\n"
     ]
    }
   ],
   "source": [
    "#Find each jobs\n",
    "job_elems = results.find_all('div',class_=\"jobsearch-SerpJobCard unifiedRow row result\")\n",
    "for job_elem in job_elems:\n",
    "#     print(job_elem, end='\\n'*2)\n",
    "    title_elem = job_elem.find('a', class_='jobtitle turnstileLink')\n",
    "    company_elem = job_elem.find('span', class_='company')\n",
    "    location_elem = job_elem.find('span', class_='location accessible-contrast-color-location')\n",
    "    if None in (title_elem, company_elem, location_elem):\n",
    "        continue\n",
    "    print(title_elem.text.strip())\n",
    "    print(company_elem.text.strip())\n",
    "    print(location_elem.text.strip())\n",
    "#     To Avoid None Error\n",
    "#     try:\n",
    "#         print(location_elem.text)\n",
    "#     except:\n",
    "#         print(\"Problems\")\n",
    "    print()"
   ]
  },
  {
   "cell_type": "code",
   "execution_count": null,
   "metadata": {},
   "outputs": [],
   "source": []
  }
 ],
 "metadata": {
  "kernelspec": {
   "display_name": "Python 3",
   "language": "python",
   "name": "python3"
  },
  "language_info": {
   "codemirror_mode": {
    "name": "ipython",
    "version": 3
   },
   "file_extension": ".py",
   "mimetype": "text/x-python",
   "name": "python",
   "nbconvert_exporter": "python",
   "pygments_lexer": "ipython3",
   "version": "3.7.4"
  }
 },
 "nbformat": 4,
 "nbformat_minor": 4
}
